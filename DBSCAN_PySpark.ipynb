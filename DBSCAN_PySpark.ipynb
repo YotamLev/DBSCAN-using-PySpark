{
  "nbformat": 4,
  "nbformat_minor": 0,
  "metadata": {
    "colab": {
      "provenance": []
    },
    "kernelspec": {
      "name": "python3",
      "display_name": "Python 3"
    },
    "language_info": {
      "name": "python"
    }
  },
  "cells": [
    {
      "cell_type": "markdown",
      "source": [
        "# Installations"
      ],
      "metadata": {
        "id": "sFdmP83BRXVv"
      }
    },
    {
      "cell_type": "code",
      "execution_count": 1,
      "metadata": {
        "colab": {
          "base_uri": "https://localhost:8080/"
        },
        "id": "q3cmZf8iEOPF",
        "outputId": "33f9e0de-3bfa-4c0b-93e6-0caca7af994f"
      },
      "outputs": [
        {
          "output_type": "stream",
          "name": "stdout",
          "text": [
            "Looking in indexes: https://pypi.org/simple, https://us-python.pkg.dev/colab-wheels/public/simple/\n",
            "Requirement already satisfied: pandas in /usr/local/lib/python3.8/dist-packages (1.3.5)\n",
            "Requirement already satisfied: numpy>=1.17.3 in /usr/local/lib/python3.8/dist-packages (from pandas) (1.21.6)\n",
            "Requirement already satisfied: pytz>=2017.3 in /usr/local/lib/python3.8/dist-packages (from pandas) (2022.7.1)\n",
            "Requirement already satisfied: python-dateutil>=2.7.3 in /usr/local/lib/python3.8/dist-packages (from pandas) (2.8.2)\n",
            "Requirement already satisfied: six>=1.5 in /usr/local/lib/python3.8/dist-packages (from python-dateutil>=2.7.3->pandas) (1.15.0)\n",
            "Looking in indexes: https://pypi.org/simple, https://us-python.pkg.dev/colab-wheels/public/simple/\n",
            "Collecting pyspark\n",
            "  Downloading pyspark-3.3.2.tar.gz (281.4 MB)\n",
            "\u001b[2K     \u001b[90m━━━━━━━━━━━━━━━━━━━━━━━━━━━━━━━━━━━━━━━\u001b[0m \u001b[32m281.4/281.4 MB\u001b[0m \u001b[31m2.3 MB/s\u001b[0m eta \u001b[36m0:00:00\u001b[0m\n",
            "\u001b[?25h  Preparing metadata (setup.py) ... \u001b[?25l\u001b[?25hdone\n",
            "Collecting py4j==0.10.9.5\n",
            "  Downloading py4j-0.10.9.5-py2.py3-none-any.whl (199 kB)\n",
            "\u001b[2K     \u001b[90m━━━━━━━━━━━━━━━━━━━━━━━━━━━━━━━━━━━━━━\u001b[0m \u001b[32m199.7/199.7 KB\u001b[0m \u001b[31m15.9 MB/s\u001b[0m eta \u001b[36m0:00:00\u001b[0m\n",
            "\u001b[?25hBuilding wheels for collected packages: pyspark\n",
            "  Building wheel for pyspark (setup.py) ... \u001b[?25l\u001b[?25hdone\n",
            "  Created wheel for pyspark: filename=pyspark-3.3.2-py2.py3-none-any.whl size=281824025 sha256=ea61c61a9c93b24776733a9a16983ccf94f6d423481b3759bdccecd9fe7ceedf\n",
            "  Stored in directory: /root/.cache/pip/wheels/b1/59/a0/a1a0624b5e865fd389919c1a10f53aec9b12195d6747710baf\n",
            "Successfully built pyspark\n",
            "Installing collected packages: py4j, pyspark\n",
            "Successfully installed py4j-0.10.9.5 pyspark-3.3.2\n"
          ]
        }
      ],
      "source": [
        "!pip install pandas\n",
        "!pip install pyspark\n",
        "\n",
        "import os\n",
        "import time\n",
        "import random\n",
        "import warnings\n",
        "import threading \n",
        "import numpy as np\n",
        "import scipy as sp\n",
        "import pandas as pd\n",
        "import seaborn as sns\n",
        "import matplotlib.pyplot as plt\n",
        "from IPython.display import display\n",
        "import math\n",
        "import os\n",
        "import json\n",
        "import random\n",
        "import sys\n",
        "from itertools import groupby\n",
        "import matplotlib.cm as cm\n",
        "import pyspark\n",
        "from pyspark.sql import SparkSession\n",
        "import time\n",
        "import warnings\n",
        "import numpy as np\n",
        "\n",
        "# For data generation:\n",
        "from sklearn import cluster, datasets, mixture\n",
        "from sklearn.neighbors import kneighbors_graph\n",
        "from sklearn.preprocessing import StandardScaler\n",
        "from itertools import cycle, islice"
      ]
    },
    {
      "cell_type": "markdown",
      "source": [
        "# PySpark activation"
      ],
      "metadata": {
        "id": "JT95Ft8PRaju"
      }
    },
    {
      "cell_type": "code",
      "source": [
        "spark = SparkSession.builder.master(\"local[1]\") \\\n",
        "                    .appName('SparkByExamples.com') \\\n",
        "                    .getOrCreate()\n",
        "\n",
        "sc=spark.sparkContext"
      ],
      "metadata": {
        "id": "85vTrWGHRe1X"
      },
      "execution_count": 2,
      "outputs": []
    },
    {
      "cell_type": "markdown",
      "source": [
        "# DBSCAN on PySpark"
      ],
      "metadata": {
        "id": "X6dVlOoNRiWS"
      }
    },
    {
      "cell_type": "code",
      "source": [
        "def PySpark_DBSCAN(working_data,epsilon,min_num_points):\n",
        "\n",
        "  def create_cell_neighbors(cell):\n",
        "    '''This function is used to connect each cell to its neighbors, turning the \"dense\" cells to a graph'''\n",
        "    return [(cell[0]-1,cell[1]-1),(cell[0]-1,cell[1]),(cell[0]-1,cell[1]+1),(cell[0],cell[1]+1),(cell[0]+1,cell[1]+1),(cell[0]+1,cell[1]),(cell[0]+1,cell[1]-1),(cell[0],cell[1]-1)]\n",
        "\n",
        "  def reduce_result_to_graph(quadrant_list):\n",
        "    '''This function turns the first MapReduce results from a list of cells to a graph'''\n",
        "    edges = []\n",
        "    full_cells = dict(quadrant_list).keys()\n",
        "    for cell in full_cells:\n",
        "      for neighbor in create_cell_neighbors(cell):\n",
        "        if neighbor in full_cells:\n",
        "          edges.append((cell,neighbor))\n",
        "          edges.append((neighbor,cell))\n",
        "    return edges\n",
        "\n",
        "\n",
        "  def small_mapper(edge):\n",
        "    '''This function is a mapper for the \"Small Star Operation\" outlined in the \"Connected Components in MapReduce and Beyond\" article'''\n",
        "    if edge[0] <= edge[1]:\n",
        "      return edge\n",
        "    else:\n",
        "      return (edge[1],edge[0])\n",
        "\n",
        "  def connect_to_small(node,neighbors):\n",
        "    '''This function is a reducer for the \"Small Star Operation\" outlined in the \"Connected Components in MapReduce and Beyond\" article'''\n",
        "    nodes = [i[1] for i in neighbors]\n",
        "    minimal = min([node]+nodes)\n",
        "    new_edges = []\n",
        "    for neighbor in nodes:\n",
        "      new_edges.append((minimal,nighbor))\n",
        "\n",
        "\n",
        "  def small_star_map(edge):\n",
        "    '''This function is a second mapper for the \"Small Star Operation\" outlined in the \"Connected Components in MapReduce and Beyond\" article'''\n",
        "    if edge[1] <= edge[0]:\n",
        "      return edge\n",
        "    elif edge[1] > edge[0]:\n",
        "      return (edge[1],edge[0])\n",
        "    else:\n",
        "      print(\"error\")\n",
        "\n",
        "  def small_reductor(key_val_tuple):\n",
        "    '''This function is a second reducer for the \"Small Star Operation\" outlined in the \"Connected Components in MapReduce and Beyond\" article'''\n",
        "    nodes = [key_val_tuple[0]] + key_val_tuple[1]\n",
        "    minimal = min(nodes)\n",
        "    nodes.remove(minimal)\n",
        "    return [(i,minimal) for i in nodes]\n",
        "\n",
        "\n",
        "  def large_star_reduce(key_val_tuple):\n",
        "    '''This function is the reducer for the \"Large Star Operation\" outlined in the \"Connected Components in MapReduce and Beyond\" article'''\n",
        "    nodes = [key_val_tuple[0]] + key_val_tuple[1]\n",
        "    minimal = min(nodes)\n",
        "    nodes = list(filter(lambda nodes: nodes >= key_val_tuple[0], nodes))\n",
        "    return [(i,minimal) for i in nodes]\n",
        "\n",
        "  def round(graph):\n",
        "    '''This function does one \"round\" of the \"Alternating\" algorithm from the article, doing small-star-MapRedue and the large-star-MapReduce'''\n",
        "    first_large_star = sc.parallelize(graph).groupByKey().mapValues(list).map(lambda row: large_star_reduce(row)).collect()\n",
        "    first_small_star = sc.parallelize([item for sublist in first_large_star for item in sublist]).map(lambda row: small_star_map(row)).groupByKey().mapValues(list).map(lambda row: small_reductor(row)).collect()\n",
        "    flattened = [item for sublist in first_small_star for item in sublist]\n",
        "    flattened += [reverser(i) for i in flattened]\n",
        "    return list(set(filter(lambda flattened: flattened[0] != flattened[1], flattened)))\n",
        "\n",
        "  def reverser(edge):\n",
        "    '''Helper function for the large star mapping'''\n",
        "    return (edge[1],edge[0])\n",
        "\n",
        "  def alternating_stars(graph):\n",
        "    '''This function does rounds of the \"Alternating\" algorithm from the article until convergence'''\n",
        "    finished = False\n",
        "    last_graph = graph\n",
        "    while not finished:\n",
        "      new_graph = round(last_graph)\n",
        "      if set(new_graph) == set(last_graph):\n",
        "        finished = True\n",
        "      else:\n",
        "        last_graph = new_graph\n",
        "    return sc.parallelize(new_graph).map(lambda row: small_mapper(row)).groupBy(lambda x: x[0]).map(lambda x: (x[0], list(x[1]))).collect()\n",
        "\n",
        "  def normalize(v):\n",
        "    '''This function normalizes the data to go from 0 to 1, in both axes'''\n",
        "    gap = v.max()-v.min()\n",
        "    v1 = v/gap\n",
        "    min = v1.min()\n",
        "    v2 = v1 - np.array([min for i in v])\n",
        "    return v2\n",
        "\n",
        "\n",
        "  def mapfunc(point):\n",
        "    '''This is the mapper for the first MapReduce, which turns points into cells'''\n",
        "    x_cell = math.floor((point[0]-x_min)/epsilon)\n",
        "    y_cell = math.floor((point[1]-y_min)/epsilon)\n",
        "    return [(x_cell,y_cell),1]\n",
        "\n",
        "  def reducefunc(key, values):\n",
        "    counts = [x[1] for x in values]\n",
        "    if sum(counts) >= min_num_points:\n",
        "      return [key,sum(counts)]\n",
        "\n",
        "\n",
        "  x=normalize(working_data[working_data.columns.values.tolist()[0]])\n",
        "  y=normalize(working_data[working_data.columns.values.tolist()[1]])\n",
        "\n",
        "  range_x = x.max()-x.min()\n",
        "  range_y = y.max()-y.min()\n",
        "  x_min = x.min()\n",
        "  y_min = y.min()\n",
        "\n",
        "  working_data=pd.DataFrame({'x': x, 'y': y}, columns=['x', 'y']).to_numpy()\n",
        "\n",
        "  cells = sc.parallelize(working_data).map(lambda row: mapfunc(row)).reduceByKey(lambda x, y: x + y).collect()\n",
        "  cells = list(set(filter(lambda cells: cells[1]>min_num_points, cells)))\n",
        "\n",
        "  return alternating_stars(reduce_result_to_graph(cells))"
      ],
      "metadata": {
        "id": "-qLrAI6DRTwV"
      },
      "execution_count": 16,
      "outputs": []
    },
    {
      "cell_type": "markdown",
      "source": [
        "# The Data"
      ],
      "metadata": {
        "id": "LGG1qy5FS6UA"
      }
    },
    {
      "cell_type": "code",
      "source": [
        "np.random.seed(0)\n",
        "\n",
        "n_samples = 500\n",
        "noisy_circles = datasets.make_circles(n_samples=n_samples, factor=0.5, noise=0.05)\n",
        "noisy_moons = datasets.make_moons(n_samples=n_samples, noise=0.05)\n",
        "blobs = datasets.make_blobs(n_samples=n_samples, random_state=8)\n",
        "no_structure = np.random.rand(n_samples, 2), None\n",
        "\n",
        "# Anisotropicly distributed data\n",
        "random_state = 170\n",
        "X, y = datasets.make_blobs(n_samples=n_samples, random_state=random_state)\n",
        "transformation = [[0.6, -0.6], [-0.4, 0.8]]\n",
        "X_aniso = np.dot(X, transformation)\n",
        "aniso = (X_aniso, y)\n",
        "\n",
        "# blobs with varied variances\n",
        "varied = datasets.make_blobs(\n",
        "    n_samples=n_samples, cluster_std=[1.0, 2.5, 0.5], random_state=random_state\n",
        ")\n",
        "\n",
        "# ============\n",
        "# Set up cluster parameters\n",
        "# ============\n",
        "plt.figure(figsize=(9 * 2 + 3, 13))\n",
        "plt.subplots_adjust(\n",
        "    left=0.02, right=0.98, bottom=0.001, top=0.95, wspace=0.05, hspace=0.01\n",
        ")\n",
        "\n",
        "plot_num = 1\n",
        "\n",
        "default_base = {\n",
        "    \"quantile\": 0.3,\n",
        "    \"eps\": 0.3,\n",
        "    \"damping\": 0.9,\n",
        "    \"preference\": -200,\n",
        "    \"n_neighbors\": 3,\n",
        "    \"n_clusters\": 3,\n",
        "    \"min_samples\": 7,\n",
        "    \"xi\": 0.05,\n",
        "    \"min_cluster_size\": 0.1,\n",
        "}\n",
        "\n",
        "datasets_gen = [\n",
        "    (\n",
        "        noisy_circles,\n",
        "        {\n",
        "            \"damping\": 0.77,\n",
        "            \"preference\": -240,\n",
        "            \"quantile\": 0.2,\n",
        "            \"n_clusters\": 2,\n",
        "            \"min_samples\": 7,\n",
        "            \"xi\": 0.08,\n",
        "        },\n",
        "    ),\n",
        "    (\n",
        "        noisy_moons,\n",
        "        {\n",
        "            \"damping\": 0.75,\n",
        "            \"preference\": -220,\n",
        "            \"n_clusters\": 2,\n",
        "            \"min_samples\": 7,\n",
        "            \"xi\": 0.1,\n",
        "        },\n",
        "    ),\n",
        "    (\n",
        "        varied,\n",
        "        {\n",
        "            \"eps\": 0.18,\n",
        "            \"n_neighbors\": 2,\n",
        "            \"min_samples\": 7,\n",
        "            \"xi\": 0.01,\n",
        "            \"min_cluster_size\": 0.2,\n",
        "        },\n",
        "    ),\n",
        "    (\n",
        "        aniso,\n",
        "        {\n",
        "            \"eps\": 0.15,\n",
        "            \"n_neighbors\": 2,\n",
        "            \"min_samples\": 7,\n",
        "            \"xi\": 0.1,\n",
        "            \"min_cluster_size\": 0.2,\n",
        "        },\n",
        "    ),\n",
        "    (blobs, {\"min_samples\": 7, \"xi\": 0.1, \"min_cluster_size\": 0.2}),\n",
        "    (no_structure, {}),\n",
        "]\n",
        "\n"
      ],
      "metadata": {
        "colab": {
          "base_uri": "https://localhost:8080/",
          "height": 34
        },
        "id": "xHhG7V03mhey",
        "outputId": "37205a74-1308-43d6-e7c8-d881e08c8cd6"
      },
      "execution_count": 4,
      "outputs": [
        {
          "output_type": "display_data",
          "data": {
            "text/plain": [
              "<Figure size 1512x936 with 0 Axes>"
            ]
          },
          "metadata": {}
        }
      ]
    },
    {
      "cell_type": "markdown",
      "source": [
        "# Graphics"
      ],
      "metadata": {
        "id": "Tn0wRW0CTAMT"
      }
    },
    {
      "cell_type": "code",
      "source": [
        "def color_quadrants(quad_list):\n",
        "  counter = 0\n",
        "  colors=cm.rainbow(np.linspace(0, 1, len(quad_list)))\n",
        "  color_dict = {}\n",
        "  for i in quad_list:\n",
        "    color_dict[i[0]] = colors[counter]\n",
        "    for j in i[1]:\n",
        "      color_dict[j[1][0],j[1][1]]=colors[counter]\n",
        "    counter += 1\n",
        "  return color_dict"
      ],
      "metadata": {
        "id": "RpAu1hL_GPpZ"
      },
      "execution_count": 5,
      "outputs": []
    },
    {
      "cell_type": "code",
      "source": [
        "dot_colors = color_quadrants(PySpark_DBSCAN(pd.DataFrame(datasets_gen[0][0][0]),0.08,3))\n",
        "for i in dot_colors:\n",
        "  plt.scatter(i[0],i[1],color=dot_colors[i])\n"
      ],
      "metadata": {
        "colab": {
          "base_uri": "https://localhost:8080/",
          "height": 265
        },
        "id": "q-75Tp6cGSJH",
        "outputId": "832e13e1-1bec-4807-da39-9615b2a690a3"
      },
      "execution_count": 17,
      "outputs": [
        {
          "output_type": "display_data",
          "data": {
            "text/plain": [
              "<Figure size 432x288 with 1 Axes>"
            ],
            "image/png": "[encoded data removed]"
          },
          "metadata": {
            "needs_background": "light"
          }
        }
      ]
    },
    {
      "cell_type": "code",
      "source": [
        "def draw_clusters(df,epsilon,min_num_points):\n",
        "  working_data = df[[df.columns.values.tolist()[0],df.columns.values.tolist()[1] ]]\n",
        "  def normalize(v):\n",
        "    # This function normalizes the data to go from 0 to 1, in both axes\n",
        "      gap = v.max()-v.min()\n",
        "      v1 = v/gap\n",
        "      min = v1.min()\n",
        "      v2 = v1 - np.array([min for i in v])\n",
        "      return v2\n",
        "  x=normalize(working_data[working_data.columns.values.tolist()[0]])\n",
        "  y=normalize(working_data[working_data.columns.values.tolist()[1]])\n",
        "\n",
        "  range_x = x.max()-x.min()\n",
        "  range_y = y.max()-y.min()\n",
        "  x_min = x.min()\n",
        "  y_min = y.min()\n",
        "  working_data=pd.DataFrame({'x': x, 'y': y}, columns=['x', 'y'])\n",
        "  def mapfunc(point):\n",
        "      '''This is the mapper for the first MapReduce, which turns points into cells'''\n",
        "      x_cell = math.floor((point[0]-x_min)/epsilon)\n",
        "      y_cell = math.floor((point[1]-y_min)/epsilon)\n",
        "      return [(x_cell,y_cell),1]\n",
        "  dot_colors = color_quadrants(PySpark_DBSCAN(working_data,epsilon,min_num_points))\n",
        "  for i in working_data.to_numpy():\n",
        "    cell = mapfunc(i)[0]\n",
        "    if cell in dot_colors:\n",
        "      plt.scatter(i[0],i[1],color=dot_colors[cell])\n",
        "    else:\n",
        "      plt.scatter(i[0],i[1],color=\"b\")"
      ],
      "metadata": {
        "id": "cflrldGrSnm5"
      },
      "execution_count": 7,
      "outputs": []
    },
    {
      "cell_type": "code",
      "source": [
        "draw_clusters(pd.DataFrame(datasets_gen[0][0][0]),0.08,3)"
      ],
      "metadata": {
        "colab": {
          "base_uri": "https://localhost:8080/",
          "height": 265
        },
        "id": "tZ3WS7DwSs-8",
        "outputId": "fc55e473-15cf-4a83-81d3-5c2b6f87cdfb"
      },
      "execution_count": 8,
      "outputs": [
        {
          "output_type": "display_data",
          "data": {
            "text/plain": [
              "<Figure size 432x288 with 1 Axes>"
            ],
            "image/png": "[encoded data removed]"
          },
          "metadata": {
            "needs_background": "light"
          }
        }
      ]
    },
    {
      "cell_type": "markdown",
      "source": [
        "# Linear comparison"
      ],
      "metadata": {
        "id": "5RDJGPPEWuuO"
      }
    },
    {
      "cell_type": "code",
      "source": [
        "class Graph_structure:\n",
        "\n",
        "   def __init__(self, V):\n",
        "      self.V = V\n",
        "      self.adj = [[] for i in range(V)]\n",
        "\n",
        "   def DFS_Utility(self, temp, v, visited):\n",
        "\n",
        "      visited[v] = True\n",
        "\n",
        "      temp.append(v)\n",
        "\n",
        "      for i in self.adj[v]:\n",
        "         if visited[i] == False:\n",
        "\n",
        "            temp = self.DFS_Utility(temp, i, visited)\n",
        "      return temp\n",
        "\n",
        "   def add_edge(self, v, w):\n",
        "      self.adj[v].append(w)\n",
        "      self.adj[w].append(v)\n",
        "\n",
        "   def connected_components(self):\n",
        "      visited = []\n",
        "      connected_comp = []\n",
        "      for i in range(self.V):\n",
        "         visited.append(False)\n",
        "      for v in range(self.V):\n",
        "         if visited[v] == False:\n",
        "            temp = []\n",
        "            connected_comp.append(self.DFS_Utility(temp, v, visited))\n",
        "      return connected_comp\n",
        "def cells_alias(quadrant_list):\n",
        "  alias = {}\n",
        "  reverse_alias = {}\n",
        "  counter = 0\n",
        "  for cell in quadrant_list:\n",
        "    alias[cell] = counter\n",
        "    reverse_alias[counter] = cell\n",
        "    counter += 1\n",
        "  return alias,reverse_alias\n",
        "\n",
        "def Linear_DBSCAN(working_data,epsilon,min_num_points):\n",
        "\n",
        "  def create_cell_neighbors(cell):\n",
        "    # This function is used to connect each cell to its neighbors, turning the \"dense\" cells to a graph\n",
        "    return [(cell[0]-1,cell[1]-1),(cell[0]-1,cell[1]),(cell[0]-1,cell[1]+1),(cell[0],cell[1]+1),(cell[0]+1,cell[1]+1),(cell[0]+1,cell[1]),(cell[0]+1,cell[1]-1),(cell[0],cell[1]-1)]\n",
        "\n",
        "  def reduce_result_to_graph(quadrant_list):\n",
        "     # This function turns the first MapReduce results from a list of cells to a graph\n",
        "    edges = []\n",
        "    full_cells = dict(quadrant_list).keys()\n",
        "    for cell in full_cells:\n",
        "      for neighbor in create_cell_neighbors(cell):\n",
        "        if neighbor in full_cells:\n",
        "          edges.append((cell,neighbor))\n",
        "          edges.append((neighbor,cell))\n",
        "    return edges\n",
        "\n",
        "\n",
        "  def small_mapper(edge):\n",
        "    # This function is a mapper for the \"Small Star Operation\" outlined in the \"Connected Components in MapReduce and Beyond\" article\n",
        "    if edge[0] <= edge[1]:\n",
        "      return edge\n",
        "    else:\n",
        "      return (edge[1],edge[0])\n",
        "\n",
        "  def connect_to_small(node,neighbors):\n",
        "    # This function is a reducer for the \"Small Star Operation\" outlined in the \"Connected Components in MapReduce and Beyond\" article\n",
        "    nodes = [i[1] for i in neighbors]\n",
        "    minimal = min([node]+nodes)\n",
        "    new_edges = []\n",
        "    for neighbor in nodes:\n",
        "      new_edges.append((minimal,nighbor))\n",
        "\n",
        "\n",
        "  def small_star_map(edge):\n",
        "    # This function is a second mapper for the \"Small Star Operation\" outlined in the \"Connected Components in MapReduce and Beyond\" article\n",
        "    if edge[1] <= edge[0]:\n",
        "      return edge\n",
        "    elif edge[1] > edge[0]:\n",
        "      return (edge[1],edge[0])\n",
        "    else:\n",
        "      print(\"error\")\n",
        "\n",
        "  def small_reductor(weird_tuple):\n",
        "    # This function is a second reducer for the \"Small Star Operation\" outlined in the \"Connected Components in MapReduce and Beyond\" article\n",
        "    nodes = [weird_tuple[0]] + weird_tuple[1]\n",
        "    minimal = min(nodes)\n",
        "    nodes.remove(minimal)\n",
        "    return [(i,minimal) for i in nodes]\n",
        "\n",
        "\n",
        "  def large_star_reduce(weird_tuple):\n",
        "    # This function is the reducer for the \"Large Star Operation\" outlined in the \"Connected Components in MapReduce and Beyond\" article\n",
        "    nodes = [weird_tuple[0]] + weird_tuple[1]\n",
        "    minimal = min(nodes)\n",
        "    nodes = list(filter(lambda nodes: nodes >= weird_tuple[0], nodes))\n",
        "    return [(i,minimal) for i in nodes]\n",
        "\n",
        "  def round(graph):\n",
        "    # This function does one \"round\" of the \"Alternating\" algorithm from the article, doing small-star-MapRedue and the large-star-MapReduce\n",
        "    first_large_star = sc.parallelize(graph).groupByKey().mapValues(list).map(lambda row: large_star_reduce(row)).collect()\n",
        "    first_small_star = sc.parallelize([item for sublist in first_large_star for item in sublist]).map(lambda row: small_star_map(row)).groupByKey().mapValues(list).map(lambda row: small_reductor(row)).collect()\n",
        "    flattened = [item for sublist in first_small_star for item in sublist]\n",
        "    flattened += [reverser(i) for i in flattened]\n",
        "    return list(set(filter(lambda flattened: flattened[0] != flattened[1], flattened)))\n",
        "\n",
        "  def reverser(edge):\n",
        "    # Helper function for the large star mapping\n",
        "    return (edge[1],edge[0])\n",
        "\n",
        "  def whole_round(graph):\n",
        "    # This function does rounds of the \"Alternating\" algorithm from the article until convergence\n",
        "    finished = False\n",
        "    last_graph = graph\n",
        "    while not finished:\n",
        "      new_graph = round(last_graph)\n",
        "      if set(new_graph) == set(last_graph):\n",
        "        finished = True\n",
        "      else:\n",
        "        last_graph = new_graph\n",
        "    return sc.parallelize(new_graph).map(lambda row: small_mapper(row)).groupBy(lambda x: x[0]).map(lambda x: (x[0], list(x[1]))).collect()\n",
        "\n",
        "  def normalize(v):\n",
        "    # This function normalizes the data to go from 0 to 1, in both axes\n",
        "      gap = v.max()-v.min()\n",
        "      v1 = v/gap\n",
        "      min = v1.min()\n",
        "      v2 = v1 - np.array([min for i in v])\n",
        "      return v2\n",
        "\n",
        "\n",
        "  def mapfunc(point):\n",
        "    # This is the mapper for the first MapReduce, which turns points into cells\n",
        "      x_cell = math.floor((point[0]-x_min)/epsilon)\n",
        "      y_cell = math.floor((point[1]-y_min)/epsilon)\n",
        "      return [(x_cell,y_cell),1]\n",
        "\n",
        "  def reducefunc(key, values):\n",
        "      counts = [x[1] for x in values]\n",
        "      if sum(counts) >= min_num_points:\n",
        "        return [key,sum(counts)]\n",
        "\n",
        "\n",
        "  x=normalize(working_data[working_data.columns.values.tolist()[0]])\n",
        "  y=normalize(working_data[working_data.columns.values.tolist()[1]])\n",
        "\n",
        "  range_x = x.max()-x.min()\n",
        "  range_y = y.max()-y.min()\n",
        "  x_min = x.min()\n",
        "  y_min = y.min()\n",
        "\n",
        "  working_data=pd.DataFrame({'x': x, 'y': y}, columns=['x', 'y']).to_numpy()\n",
        "\n",
        "  cells = {}\n",
        "  for point in working_data:\n",
        "    cell = mapfunc(point)[0]\n",
        "    if cell in cells:\n",
        "      cells[cell] += 1\n",
        "    else:\n",
        "      cells[cell] = 1\n",
        "  \n",
        "  cells = {k: v for k, v in cells.items() if v > 1}\n",
        "  edges = []\n",
        "  for cell in cells.keys():\n",
        "      for neighbor in create_cell_neighbors(cell):\n",
        "        if neighbor in cells:\n",
        "          edges.append((cell,neighbor))\n",
        "          edges.append((neighbor,cell))\n",
        "  \n",
        "  graph = Graph_structure(len(cells))\n",
        "  cell_alises,cell_reverse_alises = cells_alias(cells)\n",
        "  for edge in edges:\n",
        "    graph.add_edge(cell_alises[edge[0]],cell_alises[edge[1]])\n",
        "  conn_comp = graph.connected_components()\n",
        "  new_conn_comp = []\n",
        "  for comp in conn_comp:\n",
        "    new_conn_comp.append((cell_reverse_alises[comp[0]],comp))\n",
        "  newer_conn_comp = []\n",
        "  for comp in new_conn_comp:\n",
        "    internal_conn_comp = []\n",
        "    for node in comp[1]:\n",
        "      internal_conn_comp.append((comp[0],cell_reverse_alises[node]))\n",
        "    newer_conn_comp.append((comp[0],internal_conn_comp))\n",
        "  return newer_conn_comp"
      ],
      "metadata": {
        "id": "2ehAjrrzWxJL"
      },
      "execution_count": 9,
      "outputs": []
    },
    {
      "cell_type": "code",
      "source": [
        "%time spark_res = PySpark_DBSCAN(pd.DataFrame(datasets_gen[0][0][0]),0.08,3)\n",
        "%time lin_res = Linear_DBSCAN(pd.DataFrame(datasets_gen[0][0][0]),0.08,3)"
      ],
      "metadata": {
        "colab": {
          "base_uri": "https://localhost:8080/"
        },
        "id": "g01xljXzTGYW",
        "outputId": "dd52b33c-3778-432a-a50b-6ee344ba98c4"
      },
      "execution_count": 10,
      "outputs": [
        {
          "output_type": "stream",
          "name": "stdout",
          "text": [
            "CPU times: user 264 ms, sys: 40 ms, total: 304 ms\n",
            "Wall time: 5.47 s\n",
            "CPU times: user 10.1 ms, sys: 0 ns, total: 10.1 ms\n",
            "Wall time: 15.2 ms\n"
          ]
        }
      ]
    }
  ]
}